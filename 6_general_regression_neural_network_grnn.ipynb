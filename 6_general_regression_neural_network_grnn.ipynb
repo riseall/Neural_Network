{
 "cells": [
  {
   "cell_type": "markdown",
   "metadata": {},
   "source": [
    "# Generalized regression neural network (GRNN) \n",
    "is a variation to radial basis neural networks. GRNN was suggested by D.F. Specht in 1991.\n",
    "\n",
    "GRNN can be used for regression, prediction, and classification. GRNN can also be a good solution for online dynamical systems.\n",
    "\n",
    "GRNN represents an improved technique in the neural networks based on the nonparametric regression. The idea is that every training sample will represent a mean to a radial basis neuron"
   ]
  },
  {
   "cell_type": "markdown",
   "metadata": {},
   "source": [
    "## Dataset\n",
    "We'll use Boston Housing Dataset."
   ]
  },
  {
   "cell_type": "code",
   "execution_count": 1,
   "metadata": {},
   "outputs": [],
   "source": [
    "import numpy as np\n",
    "from sklearn import datasets, preprocessing\n",
    "from sklearn.model_selection import train_test_split\n",
    "from neupy import algorithms\n",
    "import pandas as pd\n"
   ]
  },
  {
   "cell_type": "code",
   "execution_count": 2,
   "metadata": {},
   "outputs": [],
   "source": [
    "d = pd.read_csv('CSM dataset.csv',sep=\";\")\n",
    "dataset=  d.dropna()\n",
    "dataset = dataset.iloc[:,1:]"
   ]
  },
  {
   "cell_type": "code",
   "execution_count": 3,
   "metadata": {},
   "outputs": [
    {
     "data": {
      "text/html": [
       "<div>\n",
       "<style scoped>\n",
       "    .dataframe tbody tr th:only-of-type {\n",
       "        vertical-align: middle;\n",
       "    }\n",
       "\n",
       "    .dataframe tbody tr th {\n",
       "        vertical-align: top;\n",
       "    }\n",
       "\n",
       "    .dataframe thead th {\n",
       "        text-align: right;\n",
       "    }\n",
       "</style>\n",
       "<table border=\"1\" class=\"dataframe\">\n",
       "  <thead>\n",
       "    <tr style=\"text-align: right;\">\n",
       "      <th></th>\n",
       "      <th>Year</th>\n",
       "      <th>Ratings</th>\n",
       "      <th>Genre</th>\n",
       "      <th>Gross</th>\n",
       "      <th>Budget</th>\n",
       "      <th>Screens</th>\n",
       "      <th>Sequel</th>\n",
       "      <th>Sentiment</th>\n",
       "      <th>Views</th>\n",
       "      <th>Likes</th>\n",
       "      <th>Dislikes</th>\n",
       "      <th>Comments</th>\n",
       "      <th>Aggregate Followers</th>\n",
       "    </tr>\n",
       "  </thead>\n",
       "  <tbody>\n",
       "    <tr>\n",
       "      <th>0</th>\n",
       "      <td>2014.0</td>\n",
       "      <td>6.3</td>\n",
       "      <td>8.0</td>\n",
       "      <td>9130.0</td>\n",
       "      <td>4000000.0</td>\n",
       "      <td>45.0</td>\n",
       "      <td>1.0</td>\n",
       "      <td>0.0</td>\n",
       "      <td>3280543.0</td>\n",
       "      <td>4632.0</td>\n",
       "      <td>425.0</td>\n",
       "      <td>636.0</td>\n",
       "      <td>1120000.0</td>\n",
       "    </tr>\n",
       "    <tr>\n",
       "      <th>1</th>\n",
       "      <td>2014.0</td>\n",
       "      <td>7.1</td>\n",
       "      <td>1.0</td>\n",
       "      <td>192000000.0</td>\n",
       "      <td>50000000.0</td>\n",
       "      <td>3306.0</td>\n",
       "      <td>2.0</td>\n",
       "      <td>2.0</td>\n",
       "      <td>583289.0</td>\n",
       "      <td>3465.0</td>\n",
       "      <td>61.0</td>\n",
       "      <td>186.0</td>\n",
       "      <td>12350000.0</td>\n",
       "    </tr>\n",
       "    <tr>\n",
       "      <th>2</th>\n",
       "      <td>2014.0</td>\n",
       "      <td>6.2</td>\n",
       "      <td>1.0</td>\n",
       "      <td>30700000.0</td>\n",
       "      <td>28000000.0</td>\n",
       "      <td>2872.0</td>\n",
       "      <td>1.0</td>\n",
       "      <td>0.0</td>\n",
       "      <td>304861.0</td>\n",
       "      <td>328.0</td>\n",
       "      <td>34.0</td>\n",
       "      <td>47.0</td>\n",
       "      <td>483000.0</td>\n",
       "    </tr>\n",
       "    <tr>\n",
       "      <th>3</th>\n",
       "      <td>2014.0</td>\n",
       "      <td>6.3</td>\n",
       "      <td>1.0</td>\n",
       "      <td>106000000.0</td>\n",
       "      <td>110000000.0</td>\n",
       "      <td>3470.0</td>\n",
       "      <td>2.0</td>\n",
       "      <td>0.0</td>\n",
       "      <td>452917.0</td>\n",
       "      <td>2429.0</td>\n",
       "      <td>132.0</td>\n",
       "      <td>590.0</td>\n",
       "      <td>568000.0</td>\n",
       "    </tr>\n",
       "    <tr>\n",
       "      <th>4</th>\n",
       "      <td>2014.0</td>\n",
       "      <td>4.7</td>\n",
       "      <td>8.0</td>\n",
       "      <td>17300000.0</td>\n",
       "      <td>3500000.0</td>\n",
       "      <td>2310.0</td>\n",
       "      <td>2.0</td>\n",
       "      <td>0.0</td>\n",
       "      <td>3145573.0</td>\n",
       "      <td>12163.0</td>\n",
       "      <td>610.0</td>\n",
       "      <td>1082.0</td>\n",
       "      <td>1923800.0</td>\n",
       "    </tr>\n",
       "  </tbody>\n",
       "</table>\n",
       "</div>"
      ],
      "text/plain": [
       "     Year  Ratings  Genre        Gross       Budget  Screens  Sequel  \\\n",
       "0  2014.0      6.3    8.0       9130.0    4000000.0     45.0     1.0   \n",
       "1  2014.0      7.1    1.0  192000000.0   50000000.0   3306.0     2.0   \n",
       "2  2014.0      6.2    1.0   30700000.0   28000000.0   2872.0     1.0   \n",
       "3  2014.0      6.3    1.0  106000000.0  110000000.0   3470.0     2.0   \n",
       "4  2014.0      4.7    8.0   17300000.0    3500000.0   2310.0     2.0   \n",
       "\n",
       "   Sentiment      Views    Likes  Dislikes  Comments  Aggregate Followers  \n",
       "0        0.0  3280543.0   4632.0     425.0     636.0            1120000.0  \n",
       "1        2.0   583289.0   3465.0      61.0     186.0           12350000.0  \n",
       "2        0.0   304861.0    328.0      34.0      47.0             483000.0  \n",
       "3        0.0   452917.0   2429.0     132.0     590.0             568000.0  \n",
       "4        0.0  3145573.0  12163.0     610.0    1082.0            1923800.0  "
      ]
     },
     "execution_count": 3,
     "metadata": {},
     "output_type": "execute_result"
    }
   ],
   "source": [
    "dataset.head()"
   ]
  },
  {
   "cell_type": "code",
   "execution_count": 4,
   "metadata": {},
   "outputs": [
    {
     "data": {
      "text/plain": [
       "Year                   0\n",
       "Ratings                0\n",
       "Genre                  0\n",
       "Gross                  0\n",
       "Budget                 0\n",
       "Screens                0\n",
       "Sequel                 0\n",
       "Sentiment              0\n",
       "Views                  0\n",
       "Likes                  0\n",
       "Dislikes               0\n",
       "Comments               0\n",
       "Aggregate Followers    0\n",
       "dtype: int64"
      ]
     },
     "execution_count": 4,
     "metadata": {},
     "output_type": "execute_result"
    }
   ],
   "source": [
    "dataset.isnull().sum()"
   ]
  },
  {
   "cell_type": "code",
   "execution_count": 5,
   "metadata": {},
   "outputs": [
    {
     "data": {
      "text/html": [
       "<div>\n",
       "<style scoped>\n",
       "    .dataframe tbody tr th:only-of-type {\n",
       "        vertical-align: middle;\n",
       "    }\n",
       "\n",
       "    .dataframe tbody tr th {\n",
       "        vertical-align: top;\n",
       "    }\n",
       "\n",
       "    .dataframe thead th {\n",
       "        text-align: right;\n",
       "    }\n",
       "</style>\n",
       "<table border=\"1\" class=\"dataframe\">\n",
       "  <thead>\n",
       "    <tr style=\"text-align: right;\">\n",
       "      <th></th>\n",
       "      <th>Year</th>\n",
       "      <th>Ratings</th>\n",
       "      <th>Genre</th>\n",
       "      <th>Gross</th>\n",
       "      <th>Budget</th>\n",
       "      <th>Screens</th>\n",
       "      <th>Sequel</th>\n",
       "      <th>Sentiment</th>\n",
       "      <th>Views</th>\n",
       "      <th>Likes</th>\n",
       "      <th>Dislikes</th>\n",
       "      <th>Comments</th>\n",
       "      <th>Aggregate Followers</th>\n",
       "    </tr>\n",
       "  </thead>\n",
       "  <tbody>\n",
       "    <tr>\n",
       "      <th>0</th>\n",
       "      <td>2014.0</td>\n",
       "      <td>6.3</td>\n",
       "      <td>8.0</td>\n",
       "      <td>9130.0</td>\n",
       "      <td>4000000.0</td>\n",
       "      <td>45.0</td>\n",
       "      <td>1.0</td>\n",
       "      <td>0.0</td>\n",
       "      <td>3280543.0</td>\n",
       "      <td>4632.0</td>\n",
       "      <td>425.0</td>\n",
       "      <td>636.0</td>\n",
       "      <td>1120000.0</td>\n",
       "    </tr>\n",
       "    <tr>\n",
       "      <th>1</th>\n",
       "      <td>2014.0</td>\n",
       "      <td>7.1</td>\n",
       "      <td>1.0</td>\n",
       "      <td>192000000.0</td>\n",
       "      <td>50000000.0</td>\n",
       "      <td>3306.0</td>\n",
       "      <td>2.0</td>\n",
       "      <td>2.0</td>\n",
       "      <td>583289.0</td>\n",
       "      <td>3465.0</td>\n",
       "      <td>61.0</td>\n",
       "      <td>186.0</td>\n",
       "      <td>12350000.0</td>\n",
       "    </tr>\n",
       "    <tr>\n",
       "      <th>2</th>\n",
       "      <td>2014.0</td>\n",
       "      <td>6.2</td>\n",
       "      <td>1.0</td>\n",
       "      <td>30700000.0</td>\n",
       "      <td>28000000.0</td>\n",
       "      <td>2872.0</td>\n",
       "      <td>1.0</td>\n",
       "      <td>0.0</td>\n",
       "      <td>304861.0</td>\n",
       "      <td>328.0</td>\n",
       "      <td>34.0</td>\n",
       "      <td>47.0</td>\n",
       "      <td>483000.0</td>\n",
       "    </tr>\n",
       "    <tr>\n",
       "      <th>3</th>\n",
       "      <td>2014.0</td>\n",
       "      <td>6.3</td>\n",
       "      <td>1.0</td>\n",
       "      <td>106000000.0</td>\n",
       "      <td>110000000.0</td>\n",
       "      <td>3470.0</td>\n",
       "      <td>2.0</td>\n",
       "      <td>0.0</td>\n",
       "      <td>452917.0</td>\n",
       "      <td>2429.0</td>\n",
       "      <td>132.0</td>\n",
       "      <td>590.0</td>\n",
       "      <td>568000.0</td>\n",
       "    </tr>\n",
       "    <tr>\n",
       "      <th>4</th>\n",
       "      <td>2014.0</td>\n",
       "      <td>4.7</td>\n",
       "      <td>8.0</td>\n",
       "      <td>17300000.0</td>\n",
       "      <td>3500000.0</td>\n",
       "      <td>2310.0</td>\n",
       "      <td>2.0</td>\n",
       "      <td>0.0</td>\n",
       "      <td>3145573.0</td>\n",
       "      <td>12163.0</td>\n",
       "      <td>610.0</td>\n",
       "      <td>1082.0</td>\n",
       "      <td>1923800.0</td>\n",
       "    </tr>\n",
       "  </tbody>\n",
       "</table>\n",
       "</div>"
      ],
      "text/plain": [
       "     Year  Ratings  Genre        Gross       Budget  Screens  Sequel  \\\n",
       "0  2014.0      6.3    8.0       9130.0    4000000.0     45.0     1.0   \n",
       "1  2014.0      7.1    1.0  192000000.0   50000000.0   3306.0     2.0   \n",
       "2  2014.0      6.2    1.0   30700000.0   28000000.0   2872.0     1.0   \n",
       "3  2014.0      6.3    1.0  106000000.0  110000000.0   3470.0     2.0   \n",
       "4  2014.0      4.7    8.0   17300000.0    3500000.0   2310.0     2.0   \n",
       "\n",
       "   Sentiment      Views    Likes  Dislikes  Comments  Aggregate Followers  \n",
       "0        0.0  3280543.0   4632.0     425.0     636.0            1120000.0  \n",
       "1        2.0   583289.0   3465.0      61.0     186.0           12350000.0  \n",
       "2        0.0   304861.0    328.0      34.0      47.0             483000.0  \n",
       "3        0.0   452917.0   2429.0     132.0     590.0             568000.0  \n",
       "4        0.0  3145573.0  12163.0     610.0    1082.0            1923800.0  "
      ]
     },
     "execution_count": 5,
     "metadata": {},
     "output_type": "execute_result"
    }
   ],
   "source": [
    "dataset.head()"
   ]
  },
  {
   "cell_type": "code",
   "execution_count": 6,
   "metadata": {},
   "outputs": [
    {
     "data": {
      "text/plain": [
       "array([6.3, 7.1, 6.2, 4.7, 6.1, 6.5, 7.3, 5.7, 5.4, 5.2, 4.4, 6.6, 6.9,\n",
       "       7.9, 8. , 7.8, 7.7, 4. , 6.8, 6.4, 5.8, 7.6, 5. , 8.2, 8.1, 5.6,\n",
       "       8.7, 6. , 7. , 3.1, 4.8, 5.9, 7.2, 7.5, 5.5, 5.1, 7.4, 6.7, 4.2,\n",
       "       4.9, 8.6, 8.3, 4.3, 4.6, 4.5])"
      ]
     },
     "execution_count": 6,
     "metadata": {},
     "output_type": "execute_result"
    }
   ],
   "source": [
    "dataset['Ratings'].unique()"
   ]
  },
  {
   "cell_type": "code",
   "execution_count": 7,
   "metadata": {},
   "outputs": [],
   "source": [
    "X = dataset.iloc[:, :1].values\n",
    "y = dataset.iloc[:, -1].values"
   ]
  },
  {
   "cell_type": "code",
   "execution_count": 8,
   "metadata": {},
   "outputs": [],
   "source": [
    "scaler = preprocessing.StandardScaler()\n",
    "\n",
    "# Split data into train partition and test partition\n",
    "X_train, X_test, y_train, y_test = train_test_split(X, y, random_state=0, test_size=0.3)"
   ]
  },
  {
   "cell_type": "markdown",
   "metadata": {},
   "source": [
    "## Define GRNN Model"
   ]
  },
  {
   "cell_type": "code",
   "execution_count": 9,
   "metadata": {},
   "outputs": [
    {
     "name": "stdout",
     "output_type": "stream",
     "text": [
      "\n",
      "Main information\n",
      "\n",
      "[ALGORITHM] GRNN\n",
      "\r\n",
      "[OPTION] verbose = True\n",
      "[OPTION] epoch_end_signal = None\n",
      "[OPTION] show_epoch = 1\n",
      "[OPTION] shuffle_data = False\n",
      "[OPTION] step = 0.1\n",
      "[OPTION] train_end_signal = None\n",
      "[OPTION] std = 0.1\n",
      "\r\n"
     ]
    }
   ],
   "source": [
    "grnn_model = algorithms.GRNN(std=0.1, verbose=True)"
   ]
  },
  {
   "cell_type": "markdown",
   "metadata": {},
   "source": [
    "Train!"
   ]
  },
  {
   "cell_type": "code",
   "execution_count": 10,
   "metadata": {},
   "outputs": [
    {
     "data": {
      "text/plain": [
       "GRNN(verbose=True, step=None, show_epoch=None, shuffle_data=None, epoch_end_signal=None, train_end_signal=None, std=0.1)"
      ]
     },
     "execution_count": 10,
     "metadata": {},
     "output_type": "execute_result"
    }
   ],
   "source": [
    "grnn_model.fit(X_train, y_train)"
   ]
  },
  {
   "cell_type": "markdown",
   "metadata": {},
   "source": [
    "Evaluate!"
   ]
  },
  {
   "cell_type": "code",
   "execution_count": 11,
   "metadata": {},
   "outputs": [
    {
     "name": "stdout",
     "output_type": "stream",
     "text": [
      "[[3594263.78723404]\n",
      " [3594263.78723404]\n",
      " [2601123.27777778]\n",
      " [3594263.78723404]\n",
      " [3594263.78723404]\n",
      " [3594263.78723404]\n",
      " [3594263.78723404]\n",
      " [3594263.78723404]\n",
      " [2601123.27777778]\n",
      " [3594263.78723404]\n",
      " [3594263.78723404]\n",
      " [3594263.78723404]\n",
      " [2601123.27777778]\n",
      " [3594263.78723404]\n",
      " [3594263.78723404]\n",
      " [3594263.78723404]\n",
      " [3594263.78723404]\n",
      " [3594263.78723404]\n",
      " [2601123.27777778]\n",
      " [3594263.78723404]\n",
      " [3594263.78723404]\n",
      " [3594263.78723404]\n",
      " [3594263.78723404]\n",
      " [3594263.78723404]\n",
      " [2601123.27777778]\n",
      " [2601123.27777778]\n",
      " [3594263.78723404]\n",
      " [3594263.78723404]\n",
      " [2601123.27777778]\n",
      " [3594263.78723404]\n",
      " [3594263.78723404]\n",
      " [3594263.78723404]\n",
      " [2601123.27777778]\n",
      " [3594263.78723404]\n",
      " [3594263.78723404]\n",
      " [3594263.78723404]\n",
      " [2601123.27777778]\n",
      " [2601123.27777778]\n",
      " [2601123.27777778]\n",
      " [3594263.78723404]\n",
      " [2601123.27777778]\n",
      " [3594263.78723404]\n",
      " [2601123.27777778]\n",
      " [2601123.27777778]\n",
      " [3594263.78723404]\n",
      " [3594263.78723404]\n",
      " [3594263.78723404]\n",
      " [3594263.78723404]\n",
      " [3594263.78723404]\n",
      " [3594263.78723404]\n",
      " [2601123.27777778]\n",
      " [3594263.78723404]\n",
      " [2601123.27777778]\n",
      " [2601123.27777778]\n",
      " [3594263.78723404]\n",
      " [2601123.27777778]\n",
      " [3594263.78723404]]\n",
      "[4.690000e+06 1.800000e+06 1.066000e+03 2.594000e+06 2.814900e+06\n",
      " 3.185900e+06 8.880000e+05 3.849000e+03 2.284000e+06 1.256460e+05\n",
      " 8.153000e+06 9.842000e+03 2.466000e+06 1.144400e+04 1.458600e+04\n",
      " 1.841000e+05 4.120000e+05 1.800000e+06 1.189000e+07 3.700000e+05\n",
      " 2.356000e+06 1.818778e+06 1.810000e+04 1.280000e+06 6.750000e+05\n",
      " 1.198000e+06 1.899400e+06 1.480000e+05 2.007000e+06 2.150000e+04\n",
      " 1.923800e+06 1.801000e+05 3.249250e+05 8.839043e+06 6.710000e+05\n",
      " 9.536000e+03 1.887000e+03 2.500000e+05 7.687000e+05 2.169730e+07\n",
      " 2.939000e+06 1.178300e+07 1.891977e+06 1.188000e+06 1.550500e+06\n",
      " 1.140000e+05 1.706400e+07 2.574800e+04 9.190000e+05 2.160000e+05\n",
      " 1.630000e+06 2.417000e+06 9.737600e+06 4.240000e+06 1.168000e+05\n",
      " 1.098800e+07 1.161000e+05]\n"
     ]
    }
   ],
   "source": [
    "predictions = grnn_model.predict(X_test)\n",
    "print(predictions)\n",
    "print(y_test)"
   ]
  },
  {
   "cell_type": "code",
   "execution_count": 12,
   "metadata": {},
   "outputs": [
    {
     "data": {
      "text/plain": [
       "array([3594263.78723404, 3594263.78723404, 2601123.27777778,\n",
       "       3594263.78723404, 3594263.78723404, 3594263.78723404,\n",
       "       3594263.78723404, 3594263.78723404, 2601123.27777778,\n",
       "       3594263.78723404, 3594263.78723404, 3594263.78723404,\n",
       "       2601123.27777778, 3594263.78723404, 3594263.78723404,\n",
       "       3594263.78723404, 3594263.78723404, 3594263.78723404,\n",
       "       2601123.27777778, 3594263.78723404, 3594263.78723404,\n",
       "       3594263.78723404, 3594263.78723404, 3594263.78723404,\n",
       "       2601123.27777778, 2601123.27777778, 3594263.78723404,\n",
       "       3594263.78723404, 2601123.27777778, 3594263.78723404,\n",
       "       3594263.78723404, 3594263.78723404, 2601123.27777778,\n",
       "       3594263.78723404, 3594263.78723404, 3594263.78723404,\n",
       "       2601123.27777778, 2601123.27777778, 2601123.27777778,\n",
       "       3594263.78723404, 2601123.27777778, 3594263.78723404,\n",
       "       2601123.27777778, 2601123.27777778, 3594263.78723404,\n",
       "       3594263.78723404, 3594263.78723404, 3594263.78723404,\n",
       "       3594263.78723404, 3594263.78723404, 2601123.27777778,\n",
       "       3594263.78723404, 2601123.27777778, 2601123.27777778,\n",
       "       3594263.78723404, 2601123.27777778, 3594263.78723404])"
      ]
     },
     "execution_count": 12,
     "metadata": {},
     "output_type": "execute_result"
    }
   ],
   "source": [
    "y_test_predict = predictions.reshape(1, -1)[0]\n",
    "y_test_predict"
   ]
  },
  {
   "cell_type": "code",
   "execution_count": 13,
   "metadata": {},
   "outputs": [],
   "source": [
    "y_test_predict[np.isnan(y_test_predict)] = 0"
   ]
  },
  {
   "cell_type": "code",
   "execution_count": 14,
   "metadata": {},
   "outputs": [
    {
     "name": "stdout",
     "output_type": "stream",
     "text": [
      "20064827855010.594\n"
     ]
    }
   ],
   "source": [
    "from sklearn.metrics import mean_squared_error\n",
    "\n",
    "\n",
    "print(mean_squared_error(y_test, y_test_predict))"
   ]
  }
 ],
 "metadata": {
  "interpreter": {
   "hash": "b3ba2566441a7c06988d0923437866b63cedc61552a5af99d1f4fb67d367b25f"
  },
  "kernelspec": {
   "display_name": "Python 3",
   "language": "python",
   "name": "python3"
  },
  "language_info": {
   "codemirror_mode": {
    "name": "ipython",
    "version": 3
   },
   "file_extension": ".py",
   "mimetype": "text/x-python",
   "name": "python",
   "nbconvert_exporter": "python",
   "pygments_lexer": "ipython3",
   "version": "3.9.1"
  }
 },
 "nbformat": 4,
 "nbformat_minor": 2
}
